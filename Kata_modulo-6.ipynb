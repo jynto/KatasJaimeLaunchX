{
 "cells": [
  {
   "cell_type": "markdown",
   "metadata": {},
   "source": [
    "# Kata del Modulo 6\n",
    "***\n",
    "\n",
    "* # Ejercicio 1: Crear y usar listas de python.\n",
    "\n",
    "    Usar listas para almacenar nombres de planetas."
   ]
  },
  {
   "cell_type": "code",
   "execution_count": 28,
   "metadata": {},
   "outputs": [],
   "source": [
    "planets = [\"Mercury\", \"Venus\", \"Earth\", \"Mars\", \"Jupiter\", \"Saturn\", \"Uranus\", \"Neptune\"]"
   ]
  },
  {
   "cell_type": "code",
   "execution_count": 29,
   "metadata": {},
   "outputs": [
    {
     "name": "stdout",
     "output_type": "stream",
     "text": [
      "El numero de planetas en el sistema solar son: 9\n",
      "El ultimo planeta agregado a la lista es: Pluto\n"
     ]
    }
   ],
   "source": [
    "planets .append (\"Pluto\")\n",
    "np = len (planets)\n",
    "print (\"El numero de planetas en el sistema solar son:\", np)\n",
    "print (\"El ultimo planeta agregado a la lista es:\", planets [-1])"
   ]
  },
  {
   "cell_type": "markdown",
   "metadata": {},
   "source": [
    "* # Ejercicio 2: Trabajando con datos de una lista.\n",
    "\n",
    "    Usar slices para recuperar partes de una lista."
   ]
  },
  {
   "cell_type": "code",
   "execution_count": 190,
   "metadata": {},
   "outputs": [],
   "source": [
    "planets = ['Mercury', 'Venus', 'Earth', 'Mars', 'Jupiter', 'Saturn', 'Neptune']"
   ]
  },
  {
   "cell_type": "code",
   "execution_count": 191,
   "metadata": {},
   "outputs": [
    {
     "name": "stdout",
     "output_type": "stream",
     "text": [
      "['Mercury', 'Venus', 'Earth', 'Mars', 'Jupiter', 'Saturn', 'Neptune']\n",
      "('El Nombre del planeta que esta antes es: ', 2) \n",
      " ('El Nombre del planeta que escribio es: ', 'Mars') \n",
      " ('El Nombre del planeta que esta despues es: ', 4)\n",
      "0 = Mercury, 1 = Venus, 2 = Earth, 3 = Mars, 4 = Jupiter, 5 = Saturn, 6 = Neptune\n"
     ]
    }
   ],
   "source": [
    "print (planets)\n",
    "nplanet = (input (\"Por favor, ingrese el nombre de un planeta iniciando la primer letra en mayuscula: \"))\n",
    "p1 = \"El Nombre del planeta que esta antes es: \", planets .index (nplanet) -1\n",
    "p2 = \"El Nombre del planeta que escribio es: \", nplanet\n",
    "p3 = \"El Nombre del planeta que esta despues es: \", planets .index (nplanet) +1\n",
    "print (p1, \"\\n\" ,p2, \"\\n\" ,p3)\n",
    "print (\"0 = Mercury, 1 = Venus, 2 = Earth, 3 = Mars, 4 = Jupiter, 5 = Saturn, 6 = Neptune\")"
   ]
  },
  {
   "cell_type": "code",
   "execution_count": 212,
   "metadata": {},
   "outputs": [
    {
     "name": "stdout",
     "output_type": "stream",
     "text": [
      "Los planetas mas cercanos al sol son:\n",
      "['Mercury', 'Venus', 'Earth']\n"
     ]
    }
   ],
   "source": [
    "p4 = planets .index (nplanet)\n",
    "print (\"Los planetas mas cercanos al sol son:\")\n",
    "print (planets [0:p4])"
   ]
  },
  {
   "cell_type": "code",
   "execution_count": 215,
   "metadata": {},
   "outputs": [
    {
     "name": "stdout",
     "output_type": "stream",
     "text": [
      "Los planetas mas lejanos del sol son:\n",
      "['Jupiter', 'Saturn', 'Neptune']\n"
     ]
    }
   ],
   "source": [
    "print (\"Los planetas mas lejanos del sol son:\")\n",
    "print (planets [p4+1:])"
   ]
  }
 ],
 "metadata": {
  "interpreter": {
   "hash": "6eb333e3d94b69feef2a0c0fc8e9719dbb482d30d623b30067043d98c8478a70"
  },
  "kernelspec": {
   "display_name": "Python 3.10.2 64-bit",
   "language": "python",
   "name": "python3"
  },
  "language_info": {
   "codemirror_mode": {
    "name": "ipython",
    "version": 3
   },
   "file_extension": ".py",
   "mimetype": "text/x-python",
   "name": "python",
   "nbconvert_exporter": "python",
   "pygments_lexer": "ipython3",
   "version": "3.10.2"
  },
  "orig_nbformat": 4
 },
 "nbformat": 4,
 "nbformat_minor": 2
}
