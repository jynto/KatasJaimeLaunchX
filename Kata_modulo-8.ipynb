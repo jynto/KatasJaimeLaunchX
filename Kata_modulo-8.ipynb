{
 "cells": [
  {
   "cell_type": "markdown",
   "metadata": {},
   "source": [
    "# Kata del Modulo 8\n",
    "***\n",
    "\n",
    "* # Ejercicio 1: Creacion de diccionarios de Python\n",
    "\n",
    "    Crear y modificar un diccionario en Python."
   ]
  },
  {
   "cell_type": "code",
   "execution_count": 1,
   "metadata": {},
   "outputs": [],
   "source": [
    "planet = {\n",
    "    \"name\" : \"Mars\",\n",
    "    \"moons\" : 2\n",
    "}"
   ]
  },
  {
   "cell_type": "code",
   "execution_count": 11,
   "metadata": {},
   "outputs": [
    {
     "name": "stdout",
     "output_type": "stream",
     "text": [
      "Nombre del planeta: Mars \n",
      "Numero de lunas: 2\n"
     ]
    }
   ],
   "source": [
    "print (\"Nombre del planeta:\", planet .get (\"name\"), \"\\nNumero de lunas:\", planet [\"moons\"])"
   ]
  },
  {
   "cell_type": "code",
   "execution_count": 14,
   "metadata": {},
   "outputs": [],
   "source": [
    "planet [\"polar\"] = \"6752\"\n",
    "planet [\"equatorial\"] = \"6792\""
   ]
  },
  {
   "cell_type": "code",
   "execution_count": 15,
   "metadata": {},
   "outputs": [
    {
     "data": {
      "text/plain": [
       "{'name': 'Mars', 'moons': 2, 'polar': '6752', 'equatorial': '6792'}"
      ]
     },
     "execution_count": 15,
     "metadata": {},
     "output_type": "execute_result"
    }
   ],
   "source": [
    "planet"
   ]
  },
  {
   "cell_type": "code",
   "execution_count": 17,
   "metadata": {},
   "outputs": [
    {
     "name": "stdout",
     "output_type": "stream",
     "text": [
      "Nombre del planeta: Mars \n",
      "Y su circunferencia polar es de: 6752\n"
     ]
    }
   ],
   "source": [
    "print (\"Nombre del planeta:\", planet .get (\"name\"), \"\\nY su circunferencia polar es de:\", planet [\"polar\"])"
   ]
  },
  {
   "cell_type": "markdown",
   "metadata": {},
   "source": [
    "* # Ejercicio 2: Programacion dinamica con diccionarios.\n",
    "\n",
    "    Calculo de valores."
   ]
  },
  {
   "cell_type": "code",
   "execution_count": 61,
   "metadata": {},
   "outputs": [],
   "source": [
    "planet_moons = {\n",
    "    \"Mercury\" : 0,\n",
    "    \"Venus\" : 0,\n",
    "    \"Earth\" : 1,\n",
    "    \"Mars\" : 2,\n",
    "    \"Jupiter\" : 79,\n",
    "    \"Saturn\" : 82,\n",
    "    \"Uranus\" : 27,\n",
    "    \"Neptune\" : 14,\n",
    "    \"Pluto\" : 5,\n",
    "    \"Haumea\" : 2,\n",
    "    \"Makemake\" : 1,\n",
    "    \"Eris\" : 1\n",
    "}"
   ]
  },
  {
   "cell_type": "code",
   "execution_count": 62,
   "metadata": {},
   "outputs": [],
   "source": [
    "moons = planet_moons .values ()"
   ]
  },
  {
   "cell_type": "code",
   "execution_count": 63,
   "metadata": {},
   "outputs": [],
   "source": [
    "planets = len (planet_moons)"
   ]
  },
  {
   "cell_type": "code",
   "execution_count": 64,
   "metadata": {},
   "outputs": [
    {
     "name": "stdout",
     "output_type": "stream",
     "text": [
      "Numero de lunas: 12\n"
     ]
    }
   ],
   "source": [
    "print (\"Numero de lunas:\", planets)"
   ]
  },
  {
   "cell_type": "code",
   "execution_count": 70,
   "metadata": {},
   "outputs": [],
   "source": [
    "total_moons = 0"
   ]
  },
  {
   "cell_type": "code",
   "execution_count": 71,
   "metadata": {},
   "outputs": [
    {
     "name": "stdout",
     "output_type": "stream",
     "text": [
      "Lunas promedio por planeta: 17.833333333333332\n"
     ]
    }
   ],
   "source": [
    "for moon in moons:\n",
    "    total_moons = total_moons + moon\n",
    "print (\"Lunas promedio por planeta:\", total_moons / planets)"
   ]
  }
 ],
 "metadata": {
  "interpreter": {
   "hash": "6eb333e3d94b69feef2a0c0fc8e9719dbb482d30d623b30067043d98c8478a70"
  },
  "kernelspec": {
   "display_name": "Python 3.10.2 64-bit",
   "language": "python",
   "name": "python3"
  },
  "language_info": {
   "codemirror_mode": {
    "name": "ipython",
    "version": 3
   },
   "file_extension": ".py",
   "mimetype": "text/x-python",
   "name": "python",
   "nbconvert_exporter": "python",
   "pygments_lexer": "ipython3",
   "version": "3.10.2"
  },
  "orig_nbformat": 4
 },
 "nbformat": 4,
 "nbformat_minor": 2
}
