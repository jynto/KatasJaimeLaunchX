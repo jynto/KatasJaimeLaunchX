{
 "cells": [
  {
   "cell_type": "markdown",
   "metadata": {},
   "source": [
    "# Kata del Modulo 3\n",
    "***\n",
    "\n",
    "* # Ejercicio: Escribir declaraciones if, else y elif."
   ]
  },
  {
   "cell_type": "code",
   "execution_count": 7,
   "metadata": {},
   "outputs": [
    {
     "name": "stdout",
     "output_type": "stream",
     "text": [
      "Advertencia! Un asteroide se acerca, y esta viajando a mas de 25 km/s.\n",
      "La velocidad actual del Asteroide es de: 49 km/s.\n"
     ]
    }
   ],
   "source": [
    "Asteroide = 49\n",
    "if Asteroide >= 25:\n",
    "    print (\"Advertencia! Un asteroide se acerca, y esta viajando a mas de 25 km/s.\")\n",
    "    print (\"La velocidad actual del Asteroide es de:\", Asteroide, \"km/s.\" )\n",
    "\n"
   ]
  },
  {
   "cell_type": "code",
   "execution_count": 2,
   "metadata": {},
   "outputs": [
    {
     "name": "stdout",
     "output_type": "stream",
     "text": [
      "Por favor, solo usar numeros enteros, no signos, no letras, no flotantes.\n",
      "Alerta: Hay un asteroide en la atmosfera, pero su luz no es visible ya que tiene una velocidad menor a 20 km/s.\n"
     ]
    }
   ],
   "source": [
    "# Nota para mi: Buscar la manera de no permitir letras, signos, puntos / checar float / ver si requiere una biblioteca\n",
    "print (\"Por favor, solo usar numeros enteros, no signos, no letras, no flotantes.\")\n",
    "Asteroide = int (input (\"Digite la velocidad del Asteroide: El ejercicio le recomienda introducir el numero 19, pero lo pense para que sea de libre albedrio.\"))\n",
    "if Asteroide > 20:\n",
    "    print (\"Alerta: Hay un rayo de luz en el cielo, esto indica que un asteroide entro en la atmosfera a mas de 20 km/s.\")\n",
    "elif Asteroide == 20:\n",
    "    print (\"Alerta: Hay un rayo de luz en el cielo, esto indica que un asteroide entro en la atmosfera a 20 km/s.\")\n",
    "else:\n",
    "    print (\"Alerta: Hay un asteroide en la atmosfera, pero su luz no es visible ya que tiene una velocidad menor a 20 km/s.\")"
   ]
  },
  {
   "cell_type": "markdown",
   "metadata": {},
   "source": [
    "* # Ejercicio: Uso de operadores and y or."
   ]
  },
  {
   "cell_type": "code",
   "execution_count": 1,
   "metadata": {},
   "outputs": [
    {
     "name": "stdout",
     "output_type": "stream",
     "text": [
      "No existe un Asteroide.\n",
      "\n",
      "Advertencia: El Asteroide no existe o ya se encuentra en la atmosfera.\n",
      "\n",
      "No existe un Asteroide o ya impacto.\n"
     ]
    }
   ],
   "source": [
    "Dimension = int (input (\"¿Cual es la Dimension del Asteroide? \"))\n",
    "AsteroideS = int (input (\"¿Cual es la Velocidad del Asteroide en direccion a la Tierra? \"))\n",
    "AsteroideST = int (input (\"¿Cual es la Velocidad del Asteroide en la atmosfera de la Tierra? \"))\n",
    "if Dimension >= 1 and Dimension <= 25:\n",
    "    print (\"Probablemente el asteroide se queme al hacer contacto con la atmosfera de la tierra.\")\n",
    "elif Dimension >= 26 and Dimension <= 1000:\n",
    "    print (\"Un golpe con esa Dimension causaria mucho daño.\")\n",
    "elif Dimension >= 1001:\n",
    "    print (\"No hay indicaciones\")\n",
    "else:\n",
    "    print (\"No existe un Asteroide.\")\n",
    "if AsteroideS >= 25:\n",
    "    print (\"\\nAdvertencia: Se aproxima un asteroide a la Tierra\")\n",
    "elif AsteroideS == 0:\n",
    "    print (\"\\nAdvertencia: El Asteroide no existe o ya se encuentra en la atmosfera.\")\n",
    "else:\n",
    "    print (\"\\nAdvertencia: Se aproxima un Asteroide a la Tierra a menos de 25 km/s\")\n",
    "if AsteroideST >= 20:\n",
    "    print (\"\\nAdvertencia. Hay un Asteroide entrando a la atmosfera, a veces se produce un rayo de luz que puede ser visto desde la Tierra.\")\n",
    "elif AsteroideST >= 1 and AsteroideST <= 19:\n",
    "    print (\"\\nNo hay indicaciones.\")\n",
    "else:\n",
    "    print (\"\\nNo existe un Asteroide o ya impacto.\")"
   ]
  },
  {
   "cell_type": "markdown",
   "metadata": {},
   "source": [
    "        El ejemplo anterior lo realice con 0, porque no quiero ver un Asteroide aproximandose a la tierra"
   ]
  }
 ],
 "metadata": {
  "interpreter": {
   "hash": "6eb333e3d94b69feef2a0c0fc8e9719dbb482d30d623b30067043d98c8478a70"
  },
  "kernelspec": {
   "display_name": "Python 3.10.2 64-bit",
   "language": "python",
   "name": "python3"
  },
  "language_info": {
   "codemirror_mode": {
    "name": "ipython",
    "version": 3
   },
   "file_extension": ".py",
   "mimetype": "text/x-python",
   "name": "python",
   "nbconvert_exporter": "python",
   "pygments_lexer": "ipython3",
   "version": "3.10.2"
  },
  "orig_nbformat": 4
 },
 "nbformat": 4,
 "nbformat_minor": 2
}
