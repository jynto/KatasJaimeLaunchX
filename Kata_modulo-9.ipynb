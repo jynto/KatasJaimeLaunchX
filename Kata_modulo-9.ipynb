{
 "cells": [
  {
   "cell_type": "markdown",
   "metadata": {},
   "source": [
    "# Kata del Modulo 9\n",
    "***\n",
    "\n",
    "* # Ejercicio 1: Uso de funciones en python.\n",
    "\n",
    "    Trabajar con argumentos en funciones."
   ]
  },
  {
   "cell_type": "code",
   "execution_count": 66,
   "metadata": {},
   "outputs": [],
   "source": [
    "def rocket_tank_list (tank1, tank2, tank3):\n",
    "    promedio = tank1 + tank2 + tank3 / 3\n",
    "    print (promedio)"
   ]
  },
  {
   "cell_type": "code",
   "execution_count": 67,
   "metadata": {},
   "outputs": [
    {
     "name": "stdout",
     "output_type": "stream",
     "text": [
      "55.3\n"
     ]
    }
   ],
   "source": [
    "promedio = rocket_tank_list (14.5, 26.8, 42)"
   ]
  },
  {
   "cell_type": "code",
   "execution_count": 79,
   "metadata": {},
   "outputs": [
    {
     "name": "stdout",
     "output_type": "stream",
     "text": [
      "(0.0145, 0.0268, 0.042)\n"
     ]
    }
   ],
   "source": [
    "def rocket_tank_list (tank1, tank2, tank3):\n",
    "    promedio = tank1 / 1000, tank2 / 1000, tank3 / 1000\n",
    "    print (promedio)\n",
    "promedio = rocket_tank_list (14.5, 26.8, 42)"
   ]
  },
  {
   "cell_type": "markdown",
   "metadata": {},
   "source": [
    "* # Ejercicio 2: Trabajo con argumentos de palabra clave.\n",
    "\n",
    "    Trabajar con argumentos de palabras clave en funciones."
   ]
  },
  {
   "cell_type": "code",
   "execution_count": 99,
   "metadata": {},
   "outputs": [],
   "source": [
    "def ipm (tvuelo, tanki, destino):\n",
    "    return f'Tiempo hasta el destino \\n Tiempo restante de vuelo: {22 - tvuelo} hours, \\n Tanque izquierdo: {tanki} %, \\n Destino: {destino}'\n",
    "    print (ipm)"
   ]
  },
  {
   "cell_type": "code",
   "execution_count": 100,
   "metadata": {},
   "outputs": [
    {
     "name": "stdout",
     "output_type": "stream",
     "text": [
      "Tiempo hasta el destino \n",
      " Tiempo restante de vuelo: 7 hours, \n",
      " Tanque izquierdo: 76.8 %, \n",
      " Destino: Mars\n"
     ]
    }
   ],
   "source": [
    "print (ipm(15, 76.8, \"Mars\"))"
   ]
  },
  {
   "cell_type": "code",
   "execution_count": 101,
   "metadata": {},
   "outputs": [],
   "source": [
    "def ipm (tvuelo, tanke, tanki):\n",
    "    return f'Informe de la mision \\n Tiempo de vuelo: {tvuelo * 60} minutes, \\n Combustible total: {(tanke + tanki) / 2} %'\n",
    "    print (ipm)"
   ]
  },
  {
   "cell_type": "code",
   "execution_count": 102,
   "metadata": {},
   "outputs": [
    {
     "name": "stdout",
     "output_type": "stream",
     "text": [
      "Informe de la mision \n",
      " Tiempo de vuelo: 900 minutes, \n",
      " Combustible total: 71.15 %\n"
     ]
    }
   ],
   "source": [
    "print (ipm(15, 65.5, 76.8))"
   ]
  },
  {
   "cell_type": "code",
   "execution_count": 103,
   "metadata": {},
   "outputs": [],
   "source": [
    "def ipm (hinicio, tvuelo, destino, tanke, tanki):\n",
    "    return f'Informe de la mision \\n Hora de prelanzamiento: {hinicio * 60} minutes, \\n Tiempo de vuelo: {hinicio + 15} hours, \\n Destino: {destino}, \\n Tanque  externo: {tanke} %, \\n Tanque interno: {tanki} %'\n",
    "    print (ipm)"
   ]
  },
  {
   "cell_type": "code",
   "execution_count": 104,
   "metadata": {},
   "outputs": [
    {
     "name": "stdout",
     "output_type": "stream",
     "text": [
      "Informe de la mision \n",
      " Hora de prelanzamiento: 660 minutes, \n",
      " Tiempo de vuelo: 26 hours, \n",
      " Destino: Mars, \n",
      " Tanque  externo: 65.5 %, \n",
      " Tanque interno: 76.8 %\n"
     ]
    }
   ],
   "source": [
    "print (ipm(11, 15, \"Mars\", 65.5, 76.8))"
   ]
  }
 ],
 "metadata": {
  "interpreter": {
   "hash": "6eb333e3d94b69feef2a0c0fc8e9719dbb482d30d623b30067043d98c8478a70"
  },
  "kernelspec": {
   "display_name": "Python 3.10.2 64-bit",
   "language": "python",
   "name": "python3"
  },
  "language_info": {
   "codemirror_mode": {
    "name": "ipython",
    "version": 3
   },
   "file_extension": ".py",
   "mimetype": "text/x-python",
   "name": "python",
   "nbconvert_exporter": "python",
   "pygments_lexer": "ipython3",
   "version": "3.10.2"
  },
  "orig_nbformat": 4
 },
 "nbformat": 4,
 "nbformat_minor": 2
}
