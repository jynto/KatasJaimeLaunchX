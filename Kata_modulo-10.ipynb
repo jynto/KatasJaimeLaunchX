{
 "cells": [
  {
   "cell_type": "markdown",
   "metadata": {},
   "source": [
    "Tracebacks"
   ]
  },
  {
   "cell_type": "code",
   "execution_count": 8,
   "metadata": {},
   "outputs": [
    {
     "ename": "FileNotFoundError",
     "evalue": "[Errno 2] No such file or directory: '/path/to/mars.jpg'",
     "output_type": "error",
     "traceback": [
      "\u001b[1;31m---------------------------------------------------------------------------\u001b[0m",
      "\u001b[1;31mFileNotFoundError\u001b[0m                         Traceback (most recent call last)",
      "\u001b[1;32mc:\\Users\\Jaime Ariel\\OnBoarding\\Ejercicios Modulo 10\\Modulo 10.ipynb Cell 2'\u001b[0m in \u001b[0;36m<module>\u001b[1;34m\u001b[0m\n\u001b[1;32m----> <a href='vscode-notebook-cell:/c%3A/Users/Jaime%20Ariel/OnBoarding/Ejercicios%20Modulo%2010/Modulo%2010.ipynb#ch0000000?line=0'>1</a>\u001b[0m \u001b[39mopen\u001b[39;49m (\u001b[39m\"\u001b[39;49m\u001b[39m/path/to/mars.jpg\u001b[39;49m\u001b[39m\"\u001b[39;49m)\n",
      "\u001b[1;31mFileNotFoundError\u001b[0m: [Errno 2] No such file or directory: '/path/to/mars.jpg'"
     ]
    }
   ],
   "source": [
    "open (\"/path/to/mars.jpg\")"
   ]
  },
  {
   "cell_type": "code",
   "execution_count": null,
   "metadata": {},
   "outputs": [],
   "source": [
    "#open.py\n",
    "\n",
    "def main ():\n",
    "   open (\"/path/to/mars.jpg\")\n",
    "if __name__ == \"__main__\":\n",
    "   main ()\n",
    "\n",
    "#************************************************************************************************************\n",
    "\n",
    "C:\\Users\\Jaime Ariel\\OnBoarding\\Ejercicios Modulo 10>python open.py\n",
    "Traceback (most recent call last):\n",
    "  File \"C:\\Users\\Jaime Ariel\\OnBoarding\\Ejercicios Modulo 10\\open.py\", line 4, in <module>\n",
    "    main ()\n",
    "  File \"C:\\Users\\Jaime Ariel\\OnBoarding\\Ejercicios Modulo 10\\open.py\", line 2, in main\n",
    "    open (\"/path/to/mars.jpg\")\n",
    "FileNotFoundError: [Errno 2] No such file or directory: '/path/to/mars.jpg'"
   ]
  },
  {
   "cell_type": "markdown",
   "metadata": {},
   "source": [
    "Try y Except de los bloques"
   ]
  },
  {
   "cell_type": "code",
   "execution_count": 16,
   "metadata": {},
   "outputs": [
    {
     "name": "stdout",
     "output_type": "stream",
     "text": [
      "Couldn't find the config.txt file!\n"
     ]
    }
   ],
   "source": [
    "try:\n",
    "    open (\"config.txt\")\n",
    "except FileNotFoundError:\n",
    "    print (\"Couldn't find the config.txt file!\")"
   ]
  },
  {
   "cell_type": "code",
   "execution_count": null,
   "metadata": {},
   "outputs": [],
   "source": [
    "#config.py\n",
    "\n",
    "def main ():\n",
    "    try:\n",
    "        configuration = open (\"config.txt\")\n",
    "    except FileNotFoundError:\n",
    "        print (\"Couldn't find the config.txt file!\")\n",
    "\n",
    "if __name__ == \"__main__\":\n",
    "    main ()\n",
    "\n",
    "#************************************************************************************************************\n",
    "\n",
    "C:\\Users\\Jaime Ariel\\OnBoarding\\Ejercicios Modulo 10>python config.py\n",
    "Traceback (most recent call last):\n",
    "  File \"C:\\Users\\Jaime Ariel\\OnBoarding\\Ejercicios Modulo 10\\config.py\", line 8, in <module>\n",
    "    main ()\n",
    "  File \"C:\\Users\\Jaime Ariel\\OnBoarding\\Ejercicios Modulo 10\\config.py\", line 3, in main\n",
    "    configuration = open (\"config.txt\")\n",
    "PermissionError: [Errno 13] Permission denied: 'config.txt'"
   ]
  },
  {
   "cell_type": "code",
   "execution_count": null,
   "metadata": {},
   "outputs": [],
   "source": [
    "#config.py\n",
    "\n",
    "def main ():\n",
    "    try:\n",
    "        configuration = open (\"config.txt\")\n",
    "    except Exception:\n",
    "        print (\"Couldn't find the config.txt file!\")\n",
    "if __name__ == \"__main__\":\n",
    "    main ()\n",
    "\n",
    "#************************************************************************************************************\n",
    "\n",
    "C:\\Users\\Jaime Ariel\\OnBoarding\\Ejercicios Modulo 10>python config.py\n",
    "Couldn't find the config.txt file!"
   ]
  },
  {
   "cell_type": "code",
   "execution_count": null,
   "metadata": {},
   "outputs": [],
   "source": [
    "#config.py\n",
    "\n",
    "def main ():\n",
    "    try:\n",
    "        configuration = open (\"config.txt\")\n",
    "    except FileNotFoundError:\n",
    "        print (\"Couldn't find the config.txt file!\")\n",
    "    except PermissionError:\n",
    "        print (\"Found config.txt but permission is denied, couldn't read it\")\n",
    "if __name__ == \"__main__\":\n",
    "    main ()\n",
    "\n",
    "#************************************************************************************************************\n",
    "\n",
    "C:\\Users\\Jaime Ariel\\OnBoarding\\Ejercicios Modulo 10>python config.py\n",
    "Found config.txt but permission is denied, couldn't read it"
   ]
  },
  {
   "cell_type": "code",
   "execution_count": null,
   "metadata": {},
   "outputs": [],
   "source": [
    "#config.py\n",
    "\n",
    "def main ():\n",
    "    try:\n",
    "        configuration = open (\"rm -f config.txt\")\n",
    "    except FileNotFoundError:\n",
    "        print (\"Couldn't find the config.txt file!\")\n",
    "    except PermissionError:\n",
    "        print (\"Found config.txt but permission is denied, couldn't read it\")\n",
    "if __name__ == \"__main__\":\n",
    "    main ()\n",
    "\n",
    "#************************************************************************************************************\n",
    "\n",
    "C:\\Users\\Jaime Ariel\\OnBoarding\\Ejercicios Modulo 10>python config.py \n",
    "Couldn't find the config.txt file!"
   ]
  },
  {
   "cell_type": "code",
   "execution_count": null,
   "metadata": {},
   "outputs": [],
   "source": [
    "#config.py\n",
    " \n",
    "def main ():\n",
    "    try:\n",
    "        configuration = open (\"config.txt\")\n",
    "    except FileNotFoundError:\n",
    "        print (\"Couldn't find the config.txt file!\")\n",
    "    except PermissionError:\n",
    "        print (\"Found config.txt but permission is denied, couldn't read it\")\n",
    "    except (BlockingIOError, TimeoutError):\n",
    "        print (\"Filesystem under heavy load, can't complete reading configuration file\")\n",
    "if __name__ == \"__main__\":\n",
    "    main ()\n",
    "\n",
    "#************************************************************************************************************\n",
    "\n",
    "C:\\Users\\Jaime Ariel\\OnBoarding\\Ejercicios Modulo 10>python config.py\n",
    "Couldn't find the config.txt file!"
   ]
  },
  {
   "cell_type": "code",
   "execution_count": null,
   "metadata": {},
   "outputs": [],
   "source": [
    "#open.py\n",
    "\n",
    "try:\n",
    "    open (\"mars.jpg\")\n",
    "except FileNotFoundError as err:\n",
    "        print (\"got a problem trying to read the file:\", err)\n",
    "\n",
    "#************************************************************************************************************\n",
    "\n",
    "C:\\Users\\Jaime Ariel\\OnBoarding\\Ejercicios Modulo 10>python open.py \n",
    "got a problem trying to read the file: [Errno 2] No such file or directory: 'mars.jpg'"
   ]
  },
  {
   "cell_type": "code",
   "execution_count": null,
   "metadata": {},
   "outputs": [],
   "source": [
    "#config.py\n",
    "\n",
    "try:\n",
    "    open (\"config.txt\")\n",
    "except OSError as err:\n",
    "    if err.errno == 2:\n",
    "        print (\"Couldn't find the config.txt file!\")\n",
    "    elif err.errno == 13:\n",
    "        print (\"Found config.txt but couldn't read it\")\n",
    "\n",
    "#************************************************************************************************************\n",
    "\n",
    "C:\\Users\\Jaime Ariel\\OnBoarding\\Ejercicios Modulo 10>python config.py\n",
    "Couldn't find the config.txt file!"
   ]
  },
  {
   "cell_type": "markdown",
   "metadata": {},
   "source": [
    "Generacion de excepciones"
   ]
  },
  {
   "cell_type": "code",
   "execution_count": 27,
   "metadata": {},
   "outputs": [],
   "source": [
    "def water_left (astronauts, water_left, days_left):\n",
    "    daily_usage = astronauts * 11\n",
    "    total_usage = daily_usage * days_left\n",
    "    total_water_left =  water_left - total_usage\n",
    "    return f'Total water left after {days_left} days is: {total_water_left} liters'"
   ]
  },
  {
   "cell_type": "code",
   "execution_count": 28,
   "metadata": {},
   "outputs": [
    {
     "data": {
      "text/plain": [
       "'Total water left after 2 days is: -10 liters'"
      ]
     },
     "execution_count": 28,
     "metadata": {},
     "output_type": "execute_result"
    }
   ],
   "source": [
    "water_left (5, 100, 2)"
   ]
  },
  {
   "cell_type": "code",
   "execution_count": 33,
   "metadata": {},
   "outputs": [],
   "source": [
    "def water_left (astronauts, water_left, days_left):\n",
    "    daily_usage = astronauts * 11\n",
    "    total_usage = daily_usage * days_left\n",
    "    total_water_left =  water_left - total_usage\n",
    "    if total_water_left < 0:\n",
    "        raise RuntimeError (f'There is not enough water for {astronauts} astronauts after {days_left} days!')\n",
    "    return f'Total water left after {days_left} days is: {total_water_left} liters'"
   ]
  },
  {
   "cell_type": "code",
   "execution_count": 34,
   "metadata": {},
   "outputs": [
    {
     "ename": "RuntimeError",
     "evalue": "There is not enough water for 5 astronauts after 2 days!",
     "output_type": "error",
     "traceback": [
      "\u001b[1;31m---------------------------------------------------------------------------\u001b[0m",
      "\u001b[1;31mRuntimeError\u001b[0m                              Traceback (most recent call last)",
      "\u001b[1;32mc:\\Users\\Jaime Ariel\\OnBoarding\\Ejercicios Modulo 10\\Modulo 10.ipynb Cell 17'\u001b[0m in \u001b[0;36m<module>\u001b[1;34m\u001b[0m\n\u001b[1;32m----> <a href='vscode-notebook-cell:/c%3A/Users/Jaime%20Ariel/OnBoarding/Ejercicios%20Modulo%2010/Modulo%2010.ipynb#ch0000022?line=0'>1</a>\u001b[0m water_left (\u001b[39m5\u001b[39;49m, \u001b[39m100\u001b[39;49m, \u001b[39m2\u001b[39;49m)\n",
      "\u001b[1;32mc:\\Users\\Jaime Ariel\\OnBoarding\\Ejercicios Modulo 10\\Modulo 10.ipynb Cell 16'\u001b[0m in \u001b[0;36mwater_left\u001b[1;34m(astronauts, water_left, days_left)\u001b[0m\n\u001b[0;32m      <a href='vscode-notebook-cell:/c%3A/Users/Jaime%20Ariel/OnBoarding/Ejercicios%20Modulo%2010/Modulo%2010.ipynb#ch0000021?line=3'>4</a>\u001b[0m total_water_left \u001b[39m=\u001b[39m  water_left \u001b[39m-\u001b[39m total_usage\n\u001b[0;32m      <a href='vscode-notebook-cell:/c%3A/Users/Jaime%20Ariel/OnBoarding/Ejercicios%20Modulo%2010/Modulo%2010.ipynb#ch0000021?line=4'>5</a>\u001b[0m \u001b[39mif\u001b[39;00m total_water_left \u001b[39m<\u001b[39m \u001b[39m0\u001b[39m:\n\u001b[1;32m----> <a href='vscode-notebook-cell:/c%3A/Users/Jaime%20Ariel/OnBoarding/Ejercicios%20Modulo%2010/Modulo%2010.ipynb#ch0000021?line=5'>6</a>\u001b[0m     \u001b[39mraise\u001b[39;00m \u001b[39mRuntimeError\u001b[39;00m (\u001b[39mf\u001b[39m\u001b[39m'\u001b[39m\u001b[39mThere is not enough water for \u001b[39m\u001b[39m{\u001b[39;00mastronauts\u001b[39m}\u001b[39;00m\u001b[39m astronauts after \u001b[39m\u001b[39m{\u001b[39;00mdays_left\u001b[39m}\u001b[39;00m\u001b[39m days!\u001b[39m\u001b[39m'\u001b[39m)\n\u001b[0;32m      <a href='vscode-notebook-cell:/c%3A/Users/Jaime%20Ariel/OnBoarding/Ejercicios%20Modulo%2010/Modulo%2010.ipynb#ch0000021?line=6'>7</a>\u001b[0m \u001b[39mreturn\u001b[39;00m \u001b[39mf\u001b[39m\u001b[39m'\u001b[39m\u001b[39mTotal water left after \u001b[39m\u001b[39m{\u001b[39;00mdays_left\u001b[39m}\u001b[39;00m\u001b[39m days is: \u001b[39m\u001b[39m{\u001b[39;00mtotal_water_left\u001b[39m}\u001b[39;00m\u001b[39m liters\u001b[39m\u001b[39m'\u001b[39m\n",
      "\u001b[1;31mRuntimeError\u001b[0m: There is not enough water for 5 astronauts after 2 days!"
     ]
    }
   ],
   "source": [
    "water_left (5, 100, 2)"
   ]
  },
  {
   "cell_type": "code",
   "execution_count": 37,
   "metadata": {},
   "outputs": [
    {
     "ename": "NameError",
     "evalue": "name 'alert_navigation_system' is not defined",
     "output_type": "error",
     "traceback": [
      "\u001b[1;31m---------------------------------------------------------------------------\u001b[0m",
      "\u001b[1;31mRuntimeError\u001b[0m                              Traceback (most recent call last)",
      "\u001b[1;32mc:\\Users\\Jaime Ariel\\OnBoarding\\Ejercicios Modulo 10\\Modulo 10.ipynb Cell 18'\u001b[0m in \u001b[0;36m<module>\u001b[1;34m\u001b[0m\n\u001b[0;32m      <a href='vscode-notebook-cell:/c%3A/Users/Jaime%20Ariel/OnBoarding/Ejercicios%20Modulo%2010/Modulo%2010.ipynb#ch0000023?line=0'>1</a>\u001b[0m \u001b[39mtry\u001b[39;00m:\n\u001b[1;32m----> <a href='vscode-notebook-cell:/c%3A/Users/Jaime%20Ariel/OnBoarding/Ejercicios%20Modulo%2010/Modulo%2010.ipynb#ch0000023?line=1'>2</a>\u001b[0m     water_left (\u001b[39m5\u001b[39;49m, \u001b[39m100\u001b[39;49m, \u001b[39m2\u001b[39;49m)\n\u001b[0;32m      <a href='vscode-notebook-cell:/c%3A/Users/Jaime%20Ariel/OnBoarding/Ejercicios%20Modulo%2010/Modulo%2010.ipynb#ch0000023?line=2'>3</a>\u001b[0m \u001b[39mexcept\u001b[39;00m \u001b[39mRuntimeError\u001b[39;00m \u001b[39mas\u001b[39;00m err:\n",
      "\u001b[1;32mc:\\Users\\Jaime Ariel\\OnBoarding\\Ejercicios Modulo 10\\Modulo 10.ipynb Cell 16'\u001b[0m in \u001b[0;36mwater_left\u001b[1;34m(astronauts, water_left, days_left)\u001b[0m\n\u001b[0;32m      <a href='vscode-notebook-cell:/c%3A/Users/Jaime%20Ariel/OnBoarding/Ejercicios%20Modulo%2010/Modulo%2010.ipynb#ch0000021?line=4'>5</a>\u001b[0m \u001b[39mif\u001b[39;00m total_water_left \u001b[39m<\u001b[39m \u001b[39m0\u001b[39m:\n\u001b[1;32m----> <a href='vscode-notebook-cell:/c%3A/Users/Jaime%20Ariel/OnBoarding/Ejercicios%20Modulo%2010/Modulo%2010.ipynb#ch0000021?line=5'>6</a>\u001b[0m     \u001b[39mraise\u001b[39;00m \u001b[39mRuntimeError\u001b[39;00m (\u001b[39mf\u001b[39m\u001b[39m'\u001b[39m\u001b[39mThere is not enough water for \u001b[39m\u001b[39m{\u001b[39;00mastronauts\u001b[39m}\u001b[39;00m\u001b[39m astronauts after \u001b[39m\u001b[39m{\u001b[39;00mdays_left\u001b[39m}\u001b[39;00m\u001b[39m days!\u001b[39m\u001b[39m'\u001b[39m)\n\u001b[0;32m      <a href='vscode-notebook-cell:/c%3A/Users/Jaime%20Ariel/OnBoarding/Ejercicios%20Modulo%2010/Modulo%2010.ipynb#ch0000021?line=6'>7</a>\u001b[0m \u001b[39mreturn\u001b[39;00m \u001b[39mf\u001b[39m\u001b[39m'\u001b[39m\u001b[39mTotal water left after \u001b[39m\u001b[39m{\u001b[39;00mdays_left\u001b[39m}\u001b[39;00m\u001b[39m days is: \u001b[39m\u001b[39m{\u001b[39;00mtotal_water_left\u001b[39m}\u001b[39;00m\u001b[39m liters\u001b[39m\u001b[39m'\u001b[39m\n",
      "\u001b[1;31mRuntimeError\u001b[0m: There is not enough water for 5 astronauts after 2 days!",
      "\nDuring handling of the above exception, another exception occurred:\n",
      "\u001b[1;31mNameError\u001b[0m                                 Traceback (most recent call last)",
      "\u001b[1;32mc:\\Users\\Jaime Ariel\\OnBoarding\\Ejercicios Modulo 10\\Modulo 10.ipynb Cell 18'\u001b[0m in \u001b[0;36m<module>\u001b[1;34m\u001b[0m\n\u001b[0;32m      <a href='vscode-notebook-cell:/c%3A/Users/Jaime%20Ariel/OnBoarding/Ejercicios%20Modulo%2010/Modulo%2010.ipynb#ch0000023?line=1'>2</a>\u001b[0m     water_left (\u001b[39m5\u001b[39m, \u001b[39m100\u001b[39m, \u001b[39m2\u001b[39m)\n\u001b[0;32m      <a href='vscode-notebook-cell:/c%3A/Users/Jaime%20Ariel/OnBoarding/Ejercicios%20Modulo%2010/Modulo%2010.ipynb#ch0000023?line=2'>3</a>\u001b[0m \u001b[39mexcept\u001b[39;00m \u001b[39mRuntimeError\u001b[39;00m \u001b[39mas\u001b[39;00m err:\n\u001b[1;32m----> <a href='vscode-notebook-cell:/c%3A/Users/Jaime%20Ariel/OnBoarding/Ejercicios%20Modulo%2010/Modulo%2010.ipynb#ch0000023?line=3'>4</a>\u001b[0m     alert_navigation_system (err)\n",
      "\u001b[1;31mNameError\u001b[0m: name 'alert_navigation_system' is not defined"
     ]
    }
   ],
   "source": [
    "try:\n",
    "    water_left (5, 100, 2)\n",
    "except RuntimeError as err:\n",
    "    alert_navigation_system (err)"
   ]
  },
  {
   "cell_type": "code",
   "execution_count": 38,
   "metadata": {},
   "outputs": [
    {
     "ename": "TypeError",
     "evalue": "can't multiply sequence by non-int of type 'NoneType'",
     "output_type": "error",
     "traceback": [
      "\u001b[1;31m---------------------------------------------------------------------------\u001b[0m",
      "\u001b[1;31mTypeError\u001b[0m                                 Traceback (most recent call last)",
      "\u001b[1;32mc:\\Users\\Jaime Ariel\\OnBoarding\\Ejercicios Modulo 10\\Modulo 10.ipynb Cell 19'\u001b[0m in \u001b[0;36m<module>\u001b[1;34m\u001b[0m\n\u001b[1;32m----> <a href='vscode-notebook-cell:/c%3A/Users/Jaime%20Ariel/OnBoarding/Ejercicios%20Modulo%2010/Modulo%2010.ipynb#ch0000024?line=0'>1</a>\u001b[0m water_left (\u001b[39m\"\u001b[39;49m\u001b[39m3\u001b[39;49m\u001b[39m\"\u001b[39;49m, \u001b[39m\"\u001b[39;49m\u001b[39m200\u001b[39;49m\u001b[39m\"\u001b[39;49m, \u001b[39mNone\u001b[39;49;00m)\n",
      "\u001b[1;32mc:\\Users\\Jaime Ariel\\OnBoarding\\Ejercicios Modulo 10\\Modulo 10.ipynb Cell 16'\u001b[0m in \u001b[0;36mwater_left\u001b[1;34m(astronauts, water_left, days_left)\u001b[0m\n\u001b[0;32m      <a href='vscode-notebook-cell:/c%3A/Users/Jaime%20Ariel/OnBoarding/Ejercicios%20Modulo%2010/Modulo%2010.ipynb#ch0000021?line=0'>1</a>\u001b[0m \u001b[39mdef\u001b[39;00m \u001b[39mwater_left\u001b[39m (astronauts, water_left, days_left):\n\u001b[0;32m      <a href='vscode-notebook-cell:/c%3A/Users/Jaime%20Ariel/OnBoarding/Ejercicios%20Modulo%2010/Modulo%2010.ipynb#ch0000021?line=1'>2</a>\u001b[0m     daily_usage \u001b[39m=\u001b[39m astronauts \u001b[39m*\u001b[39m \u001b[39m11\u001b[39m\n\u001b[1;32m----> <a href='vscode-notebook-cell:/c%3A/Users/Jaime%20Ariel/OnBoarding/Ejercicios%20Modulo%2010/Modulo%2010.ipynb#ch0000021?line=2'>3</a>\u001b[0m     total_usage \u001b[39m=\u001b[39m daily_usage \u001b[39m*\u001b[39;49m days_left\n\u001b[0;32m      <a href='vscode-notebook-cell:/c%3A/Users/Jaime%20Ariel/OnBoarding/Ejercicios%20Modulo%2010/Modulo%2010.ipynb#ch0000021?line=3'>4</a>\u001b[0m     total_water_left \u001b[39m=\u001b[39m  water_left \u001b[39m-\u001b[39m total_usage\n\u001b[0;32m      <a href='vscode-notebook-cell:/c%3A/Users/Jaime%20Ariel/OnBoarding/Ejercicios%20Modulo%2010/Modulo%2010.ipynb#ch0000021?line=4'>5</a>\u001b[0m     \u001b[39mif\u001b[39;00m total_water_left \u001b[39m<\u001b[39m \u001b[39m0\u001b[39m:\n",
      "\u001b[1;31mTypeError\u001b[0m: can't multiply sequence by non-int of type 'NoneType'"
     ]
    }
   ],
   "source": [
    "water_left (\"3\", \"200\", None)"
   ]
  },
  {
   "cell_type": "code",
   "execution_count": 41,
   "metadata": {},
   "outputs": [],
   "source": [
    "def water_left (astronauts, water_left, days_left):\n",
    "    for argument in [astronauts, water_left, days_left]:\n",
    "        try:\n",
    "            # If arguments is an int, the following operation will work\n",
    "            argument / 10\n",
    "        except TypeError:\n",
    "            # TypError will be raised only if it isn't the right type\n",
    "            # Raise the same exception but with a better error message\n",
    "            raise TypeError (f'All arguments must be of type int, but received: \"{argument}\"')\n",
    "    daily_usage = astronauts * 11\n",
    "    total_usage = daily_usage * days_left\n",
    "    total_water_left =  water_left - total_usage\n",
    "    if total_water_left < 0:\n",
    "        raise RuntimeError (f'There is not enough water for {astronauts} astronauts after {days_left} days!')\n",
    "    return f'Total water left after {days_left} days is: {total_water_left} liters'"
   ]
  },
  {
   "cell_type": "code",
   "execution_count": 42,
   "metadata": {},
   "outputs": [
    {
     "ename": "TypeError",
     "evalue": "All arguments must be of type int, but received: \"3\"",
     "output_type": "error",
     "traceback": [
      "\u001b[1;31m---------------------------------------------------------------------------\u001b[0m",
      "\u001b[1;31mTypeError\u001b[0m                                 Traceback (most recent call last)",
      "\u001b[1;32mc:\\Users\\Jaime Ariel\\OnBoarding\\Ejercicios Modulo 10\\Modulo 10.ipynb Cell 20'\u001b[0m in \u001b[0;36mwater_left\u001b[1;34m(astronauts, water_left, days_left)\u001b[0m\n\u001b[0;32m      <a href='vscode-notebook-cell:/c%3A/Users/Jaime%20Ariel/OnBoarding/Ejercicios%20Modulo%2010/Modulo%2010.ipynb#ch0000025?line=2'>3</a>\u001b[0m \u001b[39mtry\u001b[39;00m:\n\u001b[0;32m      <a href='vscode-notebook-cell:/c%3A/Users/Jaime%20Ariel/OnBoarding/Ejercicios%20Modulo%2010/Modulo%2010.ipynb#ch0000025?line=3'>4</a>\u001b[0m     \u001b[39m# If arguments is an int, the following operation will work\u001b[39;00m\n\u001b[1;32m----> <a href='vscode-notebook-cell:/c%3A/Users/Jaime%20Ariel/OnBoarding/Ejercicios%20Modulo%2010/Modulo%2010.ipynb#ch0000025?line=4'>5</a>\u001b[0m     argument \u001b[39m/\u001b[39;49m \u001b[39m10\u001b[39;49m\n\u001b[0;32m      <a href='vscode-notebook-cell:/c%3A/Users/Jaime%20Ariel/OnBoarding/Ejercicios%20Modulo%2010/Modulo%2010.ipynb#ch0000025?line=5'>6</a>\u001b[0m \u001b[39mexcept\u001b[39;00m \u001b[39mTypeError\u001b[39;00m:\n\u001b[0;32m      <a href='vscode-notebook-cell:/c%3A/Users/Jaime%20Ariel/OnBoarding/Ejercicios%20Modulo%2010/Modulo%2010.ipynb#ch0000025?line=6'>7</a>\u001b[0m     \u001b[39m# TypError will be raised only if it isn't the right type\u001b[39;00m\n\u001b[0;32m      <a href='vscode-notebook-cell:/c%3A/Users/Jaime%20Ariel/OnBoarding/Ejercicios%20Modulo%2010/Modulo%2010.ipynb#ch0000025?line=7'>8</a>\u001b[0m     \u001b[39m# Raise the same exception but with a better error message\u001b[39;00m\n",
      "\u001b[1;31mTypeError\u001b[0m: unsupported operand type(s) for /: 'str' and 'int'",
      "\nDuring handling of the above exception, another exception occurred:\n",
      "\u001b[1;31mTypeError\u001b[0m                                 Traceback (most recent call last)",
      "\u001b[1;32mc:\\Users\\Jaime Ariel\\OnBoarding\\Ejercicios Modulo 10\\Modulo 10.ipynb Cell 21'\u001b[0m in \u001b[0;36m<module>\u001b[1;34m\u001b[0m\n\u001b[1;32m----> <a href='vscode-notebook-cell:/c%3A/Users/Jaime%20Ariel/OnBoarding/Ejercicios%20Modulo%2010/Modulo%2010.ipynb#ch0000026?line=0'>1</a>\u001b[0m water_left (\u001b[39m\"\u001b[39;49m\u001b[39m3\u001b[39;49m\u001b[39m\"\u001b[39;49m, \u001b[39m\"\u001b[39;49m\u001b[39m200\u001b[39;49m\u001b[39m\"\u001b[39;49m, \u001b[39mNone\u001b[39;49;00m)\n",
      "\u001b[1;32mc:\\Users\\Jaime Ariel\\OnBoarding\\Ejercicios Modulo 10\\Modulo 10.ipynb Cell 20'\u001b[0m in \u001b[0;36mwater_left\u001b[1;34m(astronauts, water_left, days_left)\u001b[0m\n\u001b[0;32m      <a href='vscode-notebook-cell:/c%3A/Users/Jaime%20Ariel/OnBoarding/Ejercicios%20Modulo%2010/Modulo%2010.ipynb#ch0000025?line=4'>5</a>\u001b[0m         argument \u001b[39m/\u001b[39m \u001b[39m10\u001b[39m\n\u001b[0;32m      <a href='vscode-notebook-cell:/c%3A/Users/Jaime%20Ariel/OnBoarding/Ejercicios%20Modulo%2010/Modulo%2010.ipynb#ch0000025?line=5'>6</a>\u001b[0m     \u001b[39mexcept\u001b[39;00m \u001b[39mTypeError\u001b[39;00m:\n\u001b[0;32m      <a href='vscode-notebook-cell:/c%3A/Users/Jaime%20Ariel/OnBoarding/Ejercicios%20Modulo%2010/Modulo%2010.ipynb#ch0000025?line=6'>7</a>\u001b[0m         \u001b[39m# TypError will be raised only if it isn't the right type\u001b[39;00m\n\u001b[0;32m      <a href='vscode-notebook-cell:/c%3A/Users/Jaime%20Ariel/OnBoarding/Ejercicios%20Modulo%2010/Modulo%2010.ipynb#ch0000025?line=7'>8</a>\u001b[0m         \u001b[39m# Raise the same exception but with a better error message\u001b[39;00m\n\u001b[1;32m----> <a href='vscode-notebook-cell:/c%3A/Users/Jaime%20Ariel/OnBoarding/Ejercicios%20Modulo%2010/Modulo%2010.ipynb#ch0000025?line=8'>9</a>\u001b[0m         \u001b[39mraise\u001b[39;00m \u001b[39mTypeError\u001b[39;00m (\u001b[39mf\u001b[39m\u001b[39m'\u001b[39m\u001b[39mAll arguments must be of type int, but received: \u001b[39m\u001b[39m\"\u001b[39m\u001b[39m{\u001b[39;00margument\u001b[39m}\u001b[39;00m\u001b[39m\"\u001b[39m\u001b[39m'\u001b[39m)\n\u001b[0;32m     <a href='vscode-notebook-cell:/c%3A/Users/Jaime%20Ariel/OnBoarding/Ejercicios%20Modulo%2010/Modulo%2010.ipynb#ch0000025?line=9'>10</a>\u001b[0m daily_usage \u001b[39m=\u001b[39m astronauts \u001b[39m*\u001b[39m \u001b[39m11\u001b[39m\n\u001b[0;32m     <a href='vscode-notebook-cell:/c%3A/Users/Jaime%20Ariel/OnBoarding/Ejercicios%20Modulo%2010/Modulo%2010.ipynb#ch0000025?line=10'>11</a>\u001b[0m total_usage \u001b[39m=\u001b[39m daily_usage \u001b[39m*\u001b[39m days_left\n",
      "\u001b[1;31mTypeError\u001b[0m: All arguments must be of type int, but received: \"3\""
     ]
    }
   ],
   "source": [
    "water_left (\"3\", \"200\", None)"
   ]
  }
 ],
 "metadata": {
  "interpreter": {
   "hash": "6eb333e3d94b69feef2a0c0fc8e9719dbb482d30d623b30067043d98c8478a70"
  },
  "kernelspec": {
   "display_name": "Python 3.10.2 64-bit",
   "language": "python",
   "name": "python3"
  },
  "language_info": {
   "codemirror_mode": {
    "name": "ipython",
    "version": 3
   },
   "file_extension": ".py",
   "mimetype": "text/x-python",
   "name": "python",
   "nbconvert_exporter": "python",
   "pygments_lexer": "ipython3",
   "version": "3.10.2"
  },
  "orig_nbformat": 4
 },
 "nbformat": 4,
 "nbformat_minor": 2
}
