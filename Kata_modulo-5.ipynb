{
 "cells": [
  {
   "cell_type": "markdown",
   "metadata": {},
   "source": [
    "# Kata del Modulo 5\n",
    "***\n",
    "\n",
    "* # Ejercicio 1: Utilizar operadores aritmeticos.\n",
    "\n",
    "    Operadores aritmeticos en Python"
   ]
  },
  {
   "cell_type": "code",
   "execution_count": 1,
   "metadata": {},
   "outputs": [],
   "source": [
    "Tierra = 149597870\n",
    "Jupiter = 778547200"
   ]
  },
  {
   "cell_type": "code",
   "execution_count": 2,
   "metadata": {},
   "outputs": [
    {
     "name": "stdout",
     "output_type": "stream",
     "text": [
      "628949330\n",
      "390577534\n"
     ]
    }
   ],
   "source": [
    "resta = Tierra - Jupiter\n",
    "millas = resta * 0.621\n",
    "print (abs(resta))\n",
    "print (abs(round(millas)))"
   ]
  },
  {
   "cell_type": "markdown",
   "metadata": {},
   "source": [
    "* # Ejercicio 2: Convierte cadenas en numeros y usa valores absolutos.\n",
    "\n",
    "    Crear una aplicacion para trabajar con numeros y entrada de usuario"
   ]
  },
  {
   "cell_type": "code",
   "execution_count": 51,
   "metadata": {},
   "outputs": [
    {
     "name": "stdout",
     "output_type": "stream",
     "text": [
      "A continuacion podra ver una lista de sugerencias de la distancia que existe entre un planeta y el sol en 'km':\n",
      "\n",
      "Mercurio = 57900000\n",
      "Venus = 108200000\n",
      "Tierra = 149600000\n",
      "Marte = 227900000\n",
      "Júpiter = 778600000\n",
      "Saturno = 1433500000\n",
      "Urano = 2872500000\n",
      "Neptuno = 4495100000\n",
      "\n",
      "56945700.0\n"
     ]
    }
   ],
   "source": [
    "print (\"A continuacion podra ver una lista de sugerencias de la distancia que existe entre un planeta y el sol en 'km':\")\n",
    "print ('\\n' \"Mercurio = 57900000\")\n",
    "print (\"Venus = 108200000\")\n",
    "print (\"Tierra = 149600000\")\n",
    "print (\"Marte = 227900000\")\n",
    "print (\"Júpiter = 778600000\")\n",
    "print (\"Saturno = 1433500000\")\n",
    "print (\"Urano = 2872500000\")\n",
    "print (\"Neptuno = 4495100000\"'\\n')\n",
    "p1 = int (input (\"Digita la velocidad para el 1er planeta: \"))\n",
    "p2 = int (input (\"Digita la velocidad para el 2do planeta: \"))\n",
    "p11 = p1 * 0.621\n",
    "p22 = p2 * 0.621\n",
    "millas = p11 - p22\n",
    "print (abs(millas))"
   ]
  },
  {
   "cell_type": "markdown",
   "metadata": {},
   "source": [
    "        El ejemplo anterior lo realice entre la Tierra y Mercurio"
   ]
  }
 ],
 "metadata": {
  "interpreter": {
   "hash": "6eb333e3d94b69feef2a0c0fc8e9719dbb482d30d623b30067043d98c8478a70"
  },
  "kernelspec": {
   "display_name": "Python 3.10.2 64-bit",
   "language": "python",
   "name": "python3"
  },
  "language_info": {
   "codemirror_mode": {
    "name": "ipython",
    "version": 3
   },
   "file_extension": ".py",
   "mimetype": "text/x-python",
   "name": "python",
   "nbconvert_exporter": "python",
   "pygments_lexer": "ipython3",
   "version": "3.10.2"
  },
  "orig_nbformat": 4
 },
 "nbformat": 4,
 "nbformat_minor": 2
}
