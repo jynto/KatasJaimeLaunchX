{
 "cells": [
  {
   "cell_type": "markdown",
   "metadata": {},
   "source": [
    "# Kata del Modulo 4\n",
    "***\n",
    "* # Ejercicio 1: Transformar cadenas."
   ]
  },
  {
   "cell_type": "code",
   "execution_count": 72,
   "metadata": {},
   "outputs": [
    {
     "data": {
      "text/plain": [
       "['Interesting facts about the Moon',\n",
       " \" The Moon is Earth's only satellite\",\n",
       " ' There are several interesting facts about the Moon and how it affects life here on Earth',\n",
       " ' On average, the Moon moves 4cm away from the Earth every year',\n",
       " ' This realy drift is not significant enough to cause immediate effects on Earth',\n",
       " ' The highest daylight temperature of the Moon is 127 C']"
      ]
     },
     "execution_count": 72,
     "metadata": {},
     "output_type": "execute_result"
    }
   ],
   "source": [
    "txt = \"\"\"Interesting facts about the Moon. The Moon is Earth's only satellite. There are several interesting facts about the Moon and how it affects life here on Earth. On average, the Moon moves 4cm away from the Earth every year. This realy drift is not significant enough to cause immediate effects on Earth. The highest daylight temperature of the Moon is 127 C.\"\"\"\n",
    "text = txt .replace ('127 C.', '127 C')\n",
    "text .split ('.')"
   ]
  },
  {
   "cell_type": "code",
   "execution_count": 73,
   "metadata": {},
   "outputs": [
    {
     "name": "stdout",
     "output_type": "stream",
     "text": [
      "163\n",
      "324\n",
      "-1\n"
     ]
    }
   ],
   "source": [
    "print (text .find ('average'))\n",
    "print (text .find ('temperature'))\n",
    "print (text .find ('distance'))"
   ]
  },
  {
   "cell_type": "code",
   "execution_count": 74,
   "metadata": {},
   "outputs": [
    {
     "name": "stdout",
     "output_type": "stream",
     "text": [
      " On average, the Moon moves 4cm away from the Earth every year\n",
      " The highest daylight temperature of the Moon is 127 C\n"
     ]
    }
   ],
   "source": [
    "Luna = [\"average\", \"temperature\", \"distance\"]\n",
    "for sentence in text .split('.'):\n",
    "    for key_word in Luna:\n",
    "        if key_word in sentence:\n",
    "            print (sentence)\n",
    "            break"
   ]
  },
  {
   "cell_type": "code",
   "execution_count": 7,
   "metadata": {},
   "outputs": [
    {
     "name": "stdout",
     "output_type": "stream",
     "text": [
      "Interesting facts about the Moon. The Moon is Earth's only satellite. There are several interesting facts about the Moon and how it affects life here on Earth. On average, the Moon moves 4cm away from the Earth every year. This realy drift is not significant enough to cause immediate effects on Earth. The highest daylight temperature of the Moon is 127 Celsius.\n"
     ]
    }
   ],
   "source": [
    "cambio = txt .replace ('127 C.', '127 Celsius.')\n",
    "print (cambio)"
   ]
  },
  {
   "cell_type": "markdown",
   "metadata": {},
   "source": [
    "* # Ejercicio 2: Formateando cadenas."
   ]
  },
  {
   "cell_type": "code",
   "execution_count": 47,
   "metadata": {},
   "outputs": [],
   "source": [
    "name = \"Moon\"\n",
    "gravity = 0.00162 # in kms\n",
    "planet = \"Earth\"\n",
    "# plantilla1 = f'{name}, {gravity}, {planet}'\n",
    "# print (plantilla1)"
   ]
  },
  {
   "cell_type": "code",
   "execution_count": 48,
   "metadata": {},
   "outputs": [],
   "source": [
    "Titulo = \"Gravity Facts about ganymede\""
   ]
  },
  {
   "cell_type": "code",
   "execution_count": 49,
   "metadata": {},
   "outputs": [
    {
     "name": "stdout",
     "output_type": "stream",
     "text": [
      "----------------------------------------------------------------------\n",
      " Planet Name:\n",
      " Gravity on Ganymede:\n"
     ]
    }
   ],
   "source": [
    "multiline = \"----------------------------------------------------------------------\\n Planet Name:\\n Gravity on Ganymede:\"\n",
    "print (multiline)"
   ]
  },
  {
   "cell_type": "code",
   "execution_count": 50,
   "metadata": {},
   "outputs": [
    {
     "name": "stdout",
     "output_type": "stream",
     "text": [
      "Gravity Facts about ganymede\n",
      "----------------------------------------------------------------------\n",
      " Planet Name:\n",
      " Gravity on Ganymede:\n"
     ]
    }
   ],
   "source": [
    "print (Titulo + '\\n' + multiline)"
   ]
  },
  {
   "cell_type": "code",
   "execution_count": 60,
   "metadata": {},
   "outputs": [],
   "source": [
    "planeta = \"Marte\"\n",
    "gravedad = 0.00143 * 1000\n",
    "nombre = \"Ganimedes\""
   ]
  },
  {
   "cell_type": "code",
   "execution_count": 61,
   "metadata": {},
   "outputs": [
    {
     "name": "stdout",
     "output_type": "stream",
     "text": [
      "Gravity Facts about ganymede\n",
      "----------------------------------------------------------------------\n",
      " Planet Name:\n",
      " Gravity on Ganymede:\n"
     ]
    }
   ],
   "source": [
    "Plantilla = Titulo + '\\n' + multiline\n",
    "print (Plantilla)"
   ]
  },
  {
   "cell_type": "code",
   "execution_count": 62,
   "metadata": {},
   "outputs": [
    {
     "name": "stdout",
     "output_type": "stream",
     "text": [
      "Gravity Facts about ganymede\n",
      "----------------------------------------------------------------------\n",
      "planeta: Marte \n",
      "gravedad: 1.4300000000000002 \n",
      "nombre: Ganimedes\n"
     ]
    }
   ],
   "source": [
    "print (Titulo)\n",
    "print (\"----------------------------------------------------------------------\")\n",
    "print (\"\"\"planeta: {planeta} \\ngravedad: {gravedad} \\nnombre: {nombre}\"\"\" .format (planeta = \"Marte\", gravedad = gravedad, nombre = \"Ganimedes\"))"
   ]
  }
 ],
 "metadata": {
  "interpreter": {
   "hash": "6eb333e3d94b69feef2a0c0fc8e9719dbb482d30d623b30067043d98c8478a70"
  },
  "kernelspec": {
   "display_name": "Python 3.10.2 64-bit",
   "language": "python",
   "name": "python3"
  },
  "language_info": {
   "codemirror_mode": {
    "name": "ipython",
    "version": 3
   },
   "file_extension": ".py",
   "mimetype": "text/x-python",
   "name": "python",
   "nbconvert_exporter": "python",
   "pygments_lexer": "ipython3",
   "version": "3.10.2"
  },
  "orig_nbformat": 4
 },
 "nbformat": 4,
 "nbformat_minor": 2
}
